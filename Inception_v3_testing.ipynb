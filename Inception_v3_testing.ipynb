{
  "nbformat": 4,
  "nbformat_minor": 0,
  "metadata": {
    "colab": {
      "name": "Inception_v3_testing",
      "provenance": [],
      "collapsed_sections": [],
      "mount_file_id": "1cnAZpvelNlJ-jn-psY5V8oup7ooljEz_",
      "authorship_tag": "ABX9TyPihU5okGm2XKvMkXT5dRSr",
      "include_colab_link": true
    },
    "kernelspec": {
      "name": "python3",
      "display_name": "Python 3"
    },
    "language_info": {
      "name": "python"
    }
  },
  "cells": [
    {
      "cell_type": "markdown",
      "metadata": {
        "id": "view-in-github",
        "colab_type": "text"
      },
      "source": [
        "<a href=\"https://colab.research.google.com/github/Pramurta/Neural-Nets-Assignment-2/blob/main/Inception_v3_testing.ipynb\" target=\"_parent\"><img src=\"https://colab.research.google.com/assets/colab-badge.svg\" alt=\"Open In Colab\"/></a>"
      ]
    },
    {
      "cell_type": "code",
      "metadata": {
        "id": "XnjpF66Sd1by"
      },
      "source": [
        "import tensorflow as tf"
      ],
      "execution_count": null,
      "outputs": []
    },
    {
      "cell_type": "code",
      "metadata": {
        "colab": {
          "base_uri": "https://localhost:8080/"
        },
        "id": "O9HoufyveXzj",
        "outputId": "25efce53-8f28-406a-fcac-daa469f879fa"
      },
      "source": [
        "import os\n",
        "\n",
        "from tensorflow.keras import layers\n",
        "from tensorflow.keras import Model\n",
        "\n",
        "tf.keras.backend.clear_session()\n",
        "  \n",
        "from tensorflow.keras.applications.inception_v3 import InceptionV3\n",
        "\n",
        "#Employing transfer learning by utilizing the pretrained weights of Inception V3 model up to layer \"mixed9\" trained on the imagenet dataset \n",
        "pre_trained_model_inception = InceptionV3(input_shape = (200, 200, 3), \n",
        "                                include_top = False, \n",
        "                                weights = \"imagenet\")"
      ],
      "execution_count": null,
      "outputs": [
        {
          "output_type": "stream",
          "name": "stdout",
          "text": [
            "Downloading data from https://storage.googleapis.com/tensorflow/keras-applications/inception_v3/inception_v3_weights_tf_dim_ordering_tf_kernels_notop.h5\n",
            "87916544/87910968 [==============================] - 1s 0us/step\n",
            "87924736/87910968 [==============================] - 1s 0us/step\n"
          ]
        }
      ]
    },
    {
      "cell_type": "code",
      "metadata": {
        "colab": {
          "base_uri": "https://localhost:8080/"
        },
        "id": "cJO4KDxHegah",
        "outputId": "92402ef9-5698-401c-b633-f15ab1b6ae8a"
      },
      "source": [
        "for layer in pre_trained_model_inception.layers:\n",
        "    layer.trainable = False\n",
        "\n",
        "last_layer = pre_trained_model_inception.get_layer('mixed9')\n",
        "print('last layer output shape: ', last_layer.output_shape)\n",
        "last_output = last_layer.output"
      ],
      "execution_count": null,
      "outputs": [
        {
          "output_type": "stream",
          "name": "stdout",
          "text": [
            "last layer output shape:  (None, 4, 4, 2048)\n"
          ]
        }
      ]
    },
    {
      "cell_type": "code",
      "metadata": {
        "id": "33ui2rjVeilf"
      },
      "source": [
        "from tensorflow.keras.optimizers import Adam\n",
        "\n",
        "\n",
        "# Flatten the output layer to 1 dimension\n",
        "x = layers.Flatten()(last_output)\n",
        "# Add a fully connected layer with 1024 hidden units and ReLU activation\n",
        "x = layers.Dense(1024, activation='relu')(x)\n",
        "# Add a dropout rate of 0.4\n",
        "x = layers.Dropout(0.4)(x)\n",
        "# Add a fully connected layer with 512 hidden units and ReLU activation   \n",
        "x = layers.Dense(512, activation='relu')(x) \n",
        "# Add a dropout rate of 0.2\n",
        "x = layers.Dropout(0.2)(x) \n",
        "# Add a fully connected layer with 256 hidden units and ReLU activation \n",
        "x = layers.Dense(256, activation='relu')(x)  \n",
        "# Add a dropout rate of 0.1\n",
        "x = layers.Dropout(0.1)(x)          \n",
        "# Add a final softmax layer for classification\n",
        "x = layers.Dense(10, activation='softmax')(x)           \n",
        "\n",
        "model = Model(pre_trained_model_inception.input, x) \n",
        "\n",
        "lr_schedule = tf.keras.optimizers.schedules.ExponentialDecay(\n",
        "    initial_learning_rate=1e-3,\n",
        "    decay_steps=5,\n",
        "    decay_rate=0.9)\n",
        "\n",
        "opt = Adam(learning_rate=lr_schedule)\n",
        "\n",
        "model.compile(optimizer = opt, \n",
        "              loss = 'categorical_crossentropy', \n",
        "              metrics = ['accuracy'])\n",
        "\n",
        "checkpoint_filepath = '/content/checkpoint'\n",
        "model_checkpoint_callback = tf.keras.callbacks.ModelCheckpoint(\n",
        "    filepath=checkpoint_filepath,\n",
        "    save_weights_only=True,\n",
        "    monitor='val_accuracy',\n",
        "    mode='max',\n",
        "    save_best_only=True)\n",
        "\n",
        "early_stopping_callback = tf.keras.callbacks.EarlyStopping(monitor='val_accuracy', patience=10)\n"
      ],
      "execution_count": null,
      "outputs": []
    },
    {
      "cell_type": "code",
      "metadata": {
        "colab": {
          "base_uri": "https://localhost:8080/"
        },
        "id": "9oHIr2tpemRa",
        "outputId": "803999cc-e8ac-4239-bdc0-ae6b4dedafd2"
      },
      "source": [
        "model.load_weights(checkpoint_filepath)"
      ],
      "execution_count": null,
      "outputs": [
        {
          "output_type": "execute_result",
          "data": {
            "text/plain": [
              "<tensorflow.python.training.tracking.util.CheckpointLoadStatus at 0x7f881f8d0c10>"
            ]
          },
          "metadata": {},
          "execution_count": 27
        }
      ]
    },
    {
      "cell_type": "code",
      "metadata": {
        "id": "1VFpYoRKN2-k"
      },
      "source": [
        "!unzip 'test_images.zip'"
      ],
      "execution_count": null,
      "outputs": []
    },
    {
      "cell_type": "code",
      "metadata": {
        "colab": {
          "base_uri": "https://localhost:8080/"
        },
        "id": "t4bua3SBN65E",
        "outputId": "ebfd1e09-ad1f-4006-acd4-3fe6dc9a82bb"
      },
      "source": [
        "root_test_dir = '/content/content/test_images/'\n",
        "classes = ['fabric', 'foliage', 'glass', 'leather', 'metal', 'paper', 'plastic', 'stone', 'water', 'wood']\n",
        "correct_label = 0\n",
        "total_count = 0\n",
        "total_correct = 0\n",
        "for cls in classes:\n",
        "    cur_dir = root_test_dir+cls\n",
        "    for filename in os.listdir(cur_dir):\n",
        "        if not filename.endswith('.jpg'):\n",
        "            continue\n",
        "        img = image.load_img(cur_dir+'/'+filename, target_size=(200, 200))\n",
        "        x=image.img_to_array(img)\n",
        "        x=x/255\n",
        "        x=np.expand_dims(x, axis=0)\n",
        "        images = np.vstack([x])\n",
        "        classes = model.predict(images, batch_size=10)\n",
        "        pred = np.argmax(classes[0])\n",
        "        if pred==correct_label:\n",
        "            total_correct+=1\n",
        "        total_count+=1\n",
        "    correct_label+=1\n",
        "\n",
        "print('Test Accuracy: '+str(total_correct/total_count))\n"
      ],
      "execution_count": null,
      "outputs": [
        {
          "output_type": "stream",
          "name": "stdout",
          "text": [
            "Test Accuracy: 0.796875\n"
          ]
        }
      ]
    },
    {
      "cell_type": "code",
      "metadata": {
        "id": "Bk4yFzGYcLFt"
      },
      "source": [
        ""
      ],
      "execution_count": null,
      "outputs": []
    }
  ]
}